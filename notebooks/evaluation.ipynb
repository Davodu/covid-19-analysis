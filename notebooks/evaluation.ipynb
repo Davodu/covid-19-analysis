{
 "cells": [
  {
   "cell_type": "markdown",
   "metadata": {},
   "source": [
    "## Update data"
   ]
  },
  {
   "cell_type": "code",
   "execution_count": 9,
   "metadata": {},
   "outputs": [
    {
     "name": "stdout",
     "output_type": "stream",
     "text": [
      "Error: b''\n",
      "Out: b'Already up to date.\\n'\n",
      "Number of region rows: 16\n"
     ]
    }
   ],
   "source": [
    "# %load ../src/data/get_data.py"
   ]
  },
  {
   "cell_type": "markdown",
   "metadata": {},
   "source": [
    "## Process pipeline"
   ]
  },
  {
   "cell_type": "code",
   "execution_count": 11,
   "metadata": {},
   "outputs": [
    {
     "name": "stdout",
     "output_type": "stream",
     "text": [
      "Number of rows stored: 27664\n"
     ]
    }
   ],
   "source": [
    "# %load ../src/data/process_jh_data.py"
   ]
  },
  {
   "cell_type": "markdown",
   "metadata": {},
   "source": [
    "## Apply filter and doubling rate calculation"
   ]
  },
  {
   "cell_type": "code",
   "execution_count": 19,
   "metadata": {},
   "outputs": [
    {
     "name": "stdout",
     "output_type": "stream",
     "text": [
      "The test slope is: [1.]\n",
      "   index       date    state       country  confirmed  confirmed_filtered  \\\n",
      "0      0 2020-01-22  Alberta        Canada        0.0                 0.0   \n",
      "1    169 2020-01-22       no         Kenya        0.0                -4.8   \n",
      "2    170 2020-01-22       no  Korea, South        1.0                 0.0   \n",
      "3    171 2020-01-22       no        Kosovo        0.0                 0.0   \n",
      "4    172 2020-01-22       no        Kuwait        0.0                10.8   \n",
      "\n",
      "   confirmed_dr  confirmed_filtered_dr  \n",
      "0           NaN                    NaN  \n",
      "1           NaN                    NaN  \n",
      "2           NaN                    NaN  \n",
      "3           NaN                    NaN  \n",
      "4           NaN                    NaN  \n"
     ]
    }
   ],
   "source": [
    "# %load ../src/features/build_features.py\n",
    "#file read path - ../data/processed/COVID_relational_confirmed.csv"
   ]
  },
  {
   "cell_type": "markdown",
   "metadata": {},
   "source": [
    "## Visualize board"
   ]
  },
  {
   "cell_type": "code",
   "execution_count": null,
   "metadata": {},
   "outputs": [],
   "source": []
  }
 ],
 "metadata": {
  "kernelspec": {
   "display_name": "Python 3",
   "language": "python",
   "name": "python3"
  },
  "language_info": {
   "codemirror_mode": {
    "name": "ipython",
    "version": 3
   },
   "file_extension": ".py",
   "mimetype": "text/x-python",
   "name": "python",
   "nbconvert_exporter": "python",
   "pygments_lexer": "ipython3",
   "version": "3.7.6"
  }
 },
 "nbformat": 4,
 "nbformat_minor": 2
}
